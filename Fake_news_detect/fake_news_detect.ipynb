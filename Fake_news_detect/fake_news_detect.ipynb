{
 "cells": [
  {
   "cell_type": "markdown",
   "metadata": {},
   "source": [
    "### 1. Nhập thư viện và tập dữ liệu"
   ]
  },
  {
   "cell_type": "code",
   "execution_count": 1,
   "metadata": {},
   "outputs": [
    {
     "data": {
      "text/html": [
       "<div>\n",
       "<style scoped>\n",
       "    .dataframe tbody tr th:only-of-type {\n",
       "        vertical-align: middle;\n",
       "    }\n",
       "\n",
       "    .dataframe tbody tr th {\n",
       "        vertical-align: top;\n",
       "    }\n",
       "\n",
       "    .dataframe thead th {\n",
       "        text-align: right;\n",
       "    }\n",
       "</style>\n",
       "<table border=\"1\" class=\"dataframe\">\n",
       "  <thead>\n",
       "    <tr style=\"text-align: right;\">\n",
       "      <th></th>\n",
       "      <th>Unnamed: 0</th>\n",
       "      <th>title</th>\n",
       "      <th>text</th>\n",
       "      <th>label</th>\n",
       "    </tr>\n",
       "  </thead>\n",
       "  <tbody>\n",
       "    <tr>\n",
       "      <th>0</th>\n",
       "      <td>8476</td>\n",
       "      <td>You Can Smell Hillary’s Fear</td>\n",
       "      <td>Daniel Greenfield, a Shillman Journalism Fello...</td>\n",
       "      <td>FAKE</td>\n",
       "    </tr>\n",
       "    <tr>\n",
       "      <th>1</th>\n",
       "      <td>10294</td>\n",
       "      <td>Watch The Exact Moment Paul Ryan Committed Pol...</td>\n",
       "      <td>Google Pinterest Digg Linkedin Reddit Stumbleu...</td>\n",
       "      <td>FAKE</td>\n",
       "    </tr>\n",
       "    <tr>\n",
       "      <th>2</th>\n",
       "      <td>3608</td>\n",
       "      <td>Kerry to go to Paris in gesture of sympathy</td>\n",
       "      <td>U.S. Secretary of State John F. Kerry said Mon...</td>\n",
       "      <td>REAL</td>\n",
       "    </tr>\n",
       "    <tr>\n",
       "      <th>3</th>\n",
       "      <td>10142</td>\n",
       "      <td>Bernie supporters on Twitter erupt in anger ag...</td>\n",
       "      <td>— Kaydee King (@KaydeeKing) November 9, 2016 T...</td>\n",
       "      <td>FAKE</td>\n",
       "    </tr>\n",
       "    <tr>\n",
       "      <th>4</th>\n",
       "      <td>875</td>\n",
       "      <td>The Battle of New York: Why This Primary Matters</td>\n",
       "      <td>It's primary day in New York and front-runners...</td>\n",
       "      <td>REAL</td>\n",
       "    </tr>\n",
       "  </tbody>\n",
       "</table>\n",
       "</div>"
      ],
      "text/plain": [
       "   Unnamed: 0  ... label\n",
       "0        8476  ...  FAKE\n",
       "1       10294  ...  FAKE\n",
       "2        3608  ...  REAL\n",
       "3       10142  ...  FAKE\n",
       "4         875  ...  REAL\n",
       "\n",
       "[5 rows x 4 columns]"
      ]
     },
     "execution_count": 1,
     "metadata": {},
     "output_type": "execute_result"
    }
   ],
   "source": [
    "import numpy as np\n",
    "import pandas as pd\n",
    "import json\n",
    "import csv\n",
    "import random\n",
    "\n",
    "from tensorflow.keras.preprocessing.text import Tokenizer\n",
    "from tensorflow.keras.preprocessing.sequence import pad_sequences\n",
    "from tensorflow.keras.utils import to_categorical\n",
    "from tensorflow.keras import regularizers\n",
    "\n",
    "import pprint\n",
    "import tensorflow.compat.v1 as tf\n",
    "from tensorflow.python.framework import ops\n",
    "from sklearn.model_selection import train_test_split\n",
    "from sklearn import preprocessing\n",
    "tf.disable_eager_execution()\n",
    "\n",
    "#Reading the data\n",
    "data = pd.read_csv(\"news.csv\")\n",
    "data.head()\n"
   ]
  },
  {
   "cell_type": "markdown",
   "metadata": {},
   "source": [
    "### 2. Bộ dữ liệu tiền xử lý \n",
    "Ta thấy kết quả có 1 cột unname => xóa cột này đi"
   ]
  },
  {
   "cell_type": "code",
   "execution_count": 3,
   "metadata": {},
   "outputs": [
    {
     "data": {
      "text/html": [
       "<div>\n",
       "<style scoped>\n",
       "    .dataframe tbody tr th:only-of-type {\n",
       "        vertical-align: middle;\n",
       "    }\n",
       "\n",
       "    .dataframe tbody tr th {\n",
       "        vertical-align: top;\n",
       "    }\n",
       "\n",
       "    .dataframe thead th {\n",
       "        text-align: right;\n",
       "    }\n",
       "</style>\n",
       "<table border=\"1\" class=\"dataframe\">\n",
       "  <thead>\n",
       "    <tr style=\"text-align: right;\">\n",
       "      <th></th>\n",
       "      <th>title</th>\n",
       "      <th>text</th>\n",
       "      <th>label</th>\n",
       "    </tr>\n",
       "  </thead>\n",
       "  <tbody>\n",
       "    <tr>\n",
       "      <th>0</th>\n",
       "      <td>You Can Smell Hillary’s Fear</td>\n",
       "      <td>Daniel Greenfield, a Shillman Journalism Fello...</td>\n",
       "      <td>FAKE</td>\n",
       "    </tr>\n",
       "    <tr>\n",
       "      <th>1</th>\n",
       "      <td>Watch The Exact Moment Paul Ryan Committed Pol...</td>\n",
       "      <td>Google Pinterest Digg Linkedin Reddit Stumbleu...</td>\n",
       "      <td>FAKE</td>\n",
       "    </tr>\n",
       "    <tr>\n",
       "      <th>2</th>\n",
       "      <td>Kerry to go to Paris in gesture of sympathy</td>\n",
       "      <td>U.S. Secretary of State John F. Kerry said Mon...</td>\n",
       "      <td>REAL</td>\n",
       "    </tr>\n",
       "    <tr>\n",
       "      <th>3</th>\n",
       "      <td>Bernie supporters on Twitter erupt in anger ag...</td>\n",
       "      <td>— Kaydee King (@KaydeeKing) November 9, 2016 T...</td>\n",
       "      <td>FAKE</td>\n",
       "    </tr>\n",
       "    <tr>\n",
       "      <th>4</th>\n",
       "      <td>The Battle of New York: Why This Primary Matters</td>\n",
       "      <td>It's primary day in New York and front-runners...</td>\n",
       "      <td>REAL</td>\n",
       "    </tr>\n",
       "  </tbody>\n",
       "</table>\n",
       "</div>"
      ],
      "text/plain": [
       "                                               title  ... label\n",
       "0                       You Can Smell Hillary’s Fear  ...  FAKE\n",
       "1  Watch The Exact Moment Paul Ryan Committed Pol...  ...  FAKE\n",
       "2        Kerry to go to Paris in gesture of sympathy  ...  REAL\n",
       "3  Bernie supporters on Twitter erupt in anger ag...  ...  FAKE\n",
       "4   The Battle of New York: Why This Primary Matters  ...  REAL\n",
       "\n",
       "[5 rows x 3 columns]"
      ]
     },
     "execution_count": 3,
     "metadata": {},
     "output_type": "execute_result"
    }
   ],
   "source": [
    "data = data.drop([\"Unnamed: 0\"], axis=1)\n",
    "data.head(5)"
   ]
  },
  {
   "cell_type": "markdown",
   "metadata": {},
   "source": [
    "### Mã hóa dữ liệu\n",
    "Chuyển đổi giá trị cột label chữ thành các giá trị số"
   ]
  },
  {
   "cell_type": "code",
   "execution_count": 4,
   "metadata": {},
   "outputs": [],
   "source": [
    "# encoding the labels\n",
    "le = preprocessing.LabelEncoder()\n",
    "le.fit(data['label'])\n",
    "data['label'] = le.transform(data['label'])"
   ]
  },
  {
   "cell_type": "markdown",
   "metadata": {},
   "source": [
    "Cài đặt các biến cần thiết"
   ]
  },
  {
   "cell_type": "code",
   "execution_count": 5,
   "metadata": {},
   "outputs": [],
   "source": [
    "embedding_dim = 50\n",
    "max_length = 54\n",
    "trunc_type = 'post'\n",
    "padding_type = 'post'\n",
    "oov_tok = \"<OOV>\"\n",
    "training_size = 3000\n",
    "test_portion = .1\n"
   ]
  },
  {
   "cell_type": "markdown",
   "metadata": {},
   "source": [
    "### Tokenization\n",
    "Quá trình chia một đoạn văn bản lớn thành các đơn vị hoặc các token riêng biệt.  \n",
    "Ở đây sử dụng các cột riêng lẻ cho 1 cơ sở thời gian như 1 pipeline (chuỗi công việc) để có thể đạt được độ chính xác tốt"
   ]
  },
  {
   "cell_type": "code",
   "execution_count": 6,
   "metadata": {},
   "outputs": [],
   "source": [
    "title = []\n",
    "text = []\n",
    "labels = []\n",
    "for x in range(training_size):\n",
    "    title.append(data['title'][x])\n",
    "    text.append(data['text'][x])\n",
    "    labels.append(data['label'][x])"
   ]
  },
  {
   "cell_type": "markdown",
   "metadata": {},
   "source": [
    "Áp dụng TOKENIZATION\n"
   ]
  },
  {
   "cell_type": "code",
   "execution_count": 9,
   "metadata": {},
   "outputs": [],
   "source": [
    "tokenizer1 = Tokenizer()\n",
    "tokenizer1.fit_on_texts(title)\n",
    "word_index1 = tokenizer1.word_index\n",
    "vocab_size1 = len(word_index1)\n",
    "sequences1 = tokenizer1.texts_to_sequences(title)\n",
    "padded1 = pad_sequences(\n",
    "    sequences1, padding = padding_type, truncating = trunc_type\n",
    ")\n",
    "split = int(test_portion*training_size)\n",
    "training_sequences1 = padded1[split:training_size]\n",
    "test_sequences1 = padded1[0:split]\n",
    "test_labels = labels[0:split]\n",
    "training_labels = labels[split:training_size]"
   ]
  },
  {
   "cell_type": "markdown",
   "metadata": {},
   "source": [
    "### 3. Generating Word Embedding\n",
    "Kỹ thuật nhúng cho phép các từ có ý nghĩa tương tự biểu diễn sẽ tương tự nhau. Ở đây, mỗi từ riêng lẻ được biểu diễn dưới dạng vector có giá trị thực trong một không gian vector đã được xác định trước.  \n",
    "Trong trường hợp này ta dùng [glove.6B.50d.txt](https://drive.google.com/file/d/1ekbxlI_GdF3H_XHS8U2Csj5q5AhNXhMp/view?usp=sharing) một tệp có chứa các vector nhúng đã được huấn luyện từ trước.  \n",
    "Glove là một phương pháp nhúng phổ biến được sử dụng trong NLP. Được huấn luyện trên 1 lượng lớn văn bản từ các nguồn khác nhau và mỗi từ trong tệp được biểu diễn bằng 1 vector có kích thước 50 chiều."
   ]
  },
  {
   "cell_type": "code",
   "execution_count": 10,
   "metadata": {},
   "outputs": [],
   "source": [
    "embeddings_index = {}\n",
    "with open('glove.6B.50d.txt') as f:\n",
    "    for line in f:\n",
    "        values = line.split()\n",
    "        word = values[0]\n",
    "        coefs = np.array(values[1:], dtype='float32')\n",
    "        embeddings_index[word] = coefs\n",
    "\n",
    "# Generating embeddings\n",
    "embedding_matrix = np.zeros((vocab_size1+1, embedding_dim))\n",
    "for word, i in word_index1.items():\n",
    "    embedding_vector = embeddings_index.get(word)\n",
    "    if embedding_vector is not None:\n",
    "        embedding_matrix[i] = embedding_vector"
   ]
  },
  {
   "cell_type": "markdown",
   "metadata": {},
   "source": [
    "### 4. Creating Model Architecture\n",
    "Giờ chúng ta sẽ dùng Tensorflow để tạo mô hình.  \n",
    "Ở đây ta dùng kỹ thuật TensorFlow embedding với Keras Embedding Layer, lớp này có thể ánh xạ dữ liệu đầu vào ban đầu thành tập hợp các chiều có giá trị thực"
   ]
  },
  {
   "cell_type": "code",
   "execution_count": 12,
   "metadata": {},
   "outputs": [
    {
     "name": "stdout",
     "output_type": "stream",
     "text": [
      "Model: \"sequential_1\"\n",
      "_________________________________________________________________\n",
      " Layer (type)                Output Shape              Param #   \n",
      "=================================================================\n",
      " embedding_1 (Embedding)     (None, 54, 50)            377600    \n",
      "                                                                 \n",
      " dropout_1 (Dropout)         (None, 54, 50)            0         \n",
      "                                                                 \n",
      " conv1d_1 (Conv1D)           (None, 50, 64)            16064     \n",
      "                                                                 \n",
      " max_pooling1d_1 (MaxPoolin  (None, 12, 64)            0         \n",
      " g1D)                                                            \n",
      "                                                                 \n",
      " lstm_1 (LSTM)               (None, 64)                33024     \n",
      "                                                                 \n",
      " dense_1 (Dense)             (None, 1)                 65        \n",
      "                                                                 \n",
      "=================================================================\n",
      "Total params: 426753 (1.63 MB)\n",
      "Trainable params: 49153 (192.00 KB)\n",
      "Non-trainable params: 377600 (1.44 MB)\n",
      "_________________________________________________________________\n"
     ]
    }
   ],
   "source": [
    "model = tf.keras.Sequential([\n",
    "    tf.keras.layers.Embedding(vocab_size1+1, embedding_dim, input_length = max_length,\n",
    "                              weights = [embedding_matrix], trainable = False),\n",
    "    tf.keras.layers.Dropout(0.2),\n",
    "    tf.keras.layers.Conv1D(64, 5, activation='relu'),\n",
    "    tf.keras.layers.MaxPooling1D(pool_size=4),\n",
    "    tf.keras.layers.LSTM(64),\n",
    "    tf.keras.layers.Dense(1, activation='sigmoid')\n",
    "])\n",
    "model.compile( loss = 'binary_crossentropy',\n",
    "               optimizer='adam', metrics = ['accuracy'])\n",
    "model.summary()"
   ]
  },
  {
   "cell_type": "markdown",
   "metadata": {},
   "source": [
    "TRAINING"
   ]
  },
  {
   "cell_type": "code",
   "execution_count": 13,
   "metadata": {},
   "outputs": [
    {
     "name": "stdout",
     "output_type": "stream",
     "text": [
      "Train on 2700 samples, validate on 300 samples\n",
      "Epoch 1/50\n"
     ]
    },
    {
     "name": "stderr",
     "output_type": "stream",
     "text": [
      "c:\\Users\\Admin\\anaconda3\\Lib\\site-packages\\keras\\src\\engine\\training_v1.py:2335: UserWarning: `Model.state_updates` will be removed in a future version. This property should not be used in TensorFlow 2.0, as `updates` are applied automatically.\n",
      "  updates = self.state_updates\n"
     ]
    },
    {
     "name": "stdout",
     "output_type": "stream",
     "text": [
      "2700/2700 - 3s - loss: 0.6425 - accuracy: 0.5959 - val_loss: 0.5646 - val_accuracy: 0.6733 - 3s/epoch - 1ms/sample\n",
      "Epoch 2/50\n",
      "2700/2700 - 1s - loss: 0.5751 - accuracy: 0.7011 - val_loss: 0.5509 - val_accuracy: 0.7033 - 1s/epoch - 508us/sample\n",
      "Epoch 3/50\n",
      "2700/2700 - 2s - loss: 0.5439 - accuracy: 0.7233 - val_loss: 0.5116 - val_accuracy: 0.7300 - 2s/epoch - 648us/sample\n",
      "Epoch 4/50\n",
      "2700/2700 - 2s - loss: 0.4969 - accuracy: 0.7619 - val_loss: 0.5053 - val_accuracy: 0.7500 - 2s/epoch - 743us/sample\n",
      "Epoch 5/50\n",
      "2700/2700 - 2s - loss: 0.4498 - accuracy: 0.7911 - val_loss: 0.5007 - val_accuracy: 0.7300 - 2s/epoch - 599us/sample\n",
      "Epoch 6/50\n",
      "2700/2700 - 2s - loss: 0.4067 - accuracy: 0.8070 - val_loss: 0.4715 - val_accuracy: 0.7700 - 2s/epoch - 652us/sample\n",
      "Epoch 7/50\n",
      "2700/2700 - 2s - loss: 0.3736 - accuracy: 0.8307 - val_loss: 0.4721 - val_accuracy: 0.7733 - 2s/epoch - 709us/sample\n",
      "Epoch 8/50\n",
      "2700/2700 - 2s - loss: 0.3389 - accuracy: 0.8556 - val_loss: 0.4878 - val_accuracy: 0.7833 - 2s/epoch - 763us/sample\n",
      "Epoch 9/50\n",
      "2700/2700 - 2s - loss: 0.2875 - accuracy: 0.8774 - val_loss: 0.5290 - val_accuracy: 0.7533 - 2s/epoch - 858us/sample\n",
      "Epoch 10/50\n",
      "2700/2700 - 2s - loss: 0.2876 - accuracy: 0.8804 - val_loss: 0.5253 - val_accuracy: 0.7567 - 2s/epoch - 804us/sample\n",
      "Epoch 11/50\n",
      "2700/2700 - 3s - loss: 0.2575 - accuracy: 0.8948 - val_loss: 0.5121 - val_accuracy: 0.7600 - 3s/epoch - 972us/sample\n",
      "Epoch 12/50\n",
      "2700/2700 - 2s - loss: 0.2487 - accuracy: 0.8959 - val_loss: 0.5077 - val_accuracy: 0.7567 - 2s/epoch - 864us/sample\n",
      "Epoch 13/50\n",
      "2700/2700 - 2s - loss: 0.2047 - accuracy: 0.9200 - val_loss: 0.5829 - val_accuracy: 0.7533 - 2s/epoch - 735us/sample\n",
      "Epoch 14/50\n",
      "2700/2700 - 2s - loss: 0.1972 - accuracy: 0.9163 - val_loss: 0.5602 - val_accuracy: 0.7700 - 2s/epoch - 617us/sample\n",
      "Epoch 15/50\n",
      "2700/2700 - 2s - loss: 0.1692 - accuracy: 0.9315 - val_loss: 0.7191 - val_accuracy: 0.7433 - 2s/epoch - 672us/sample\n",
      "Epoch 16/50\n",
      "2700/2700 - 2s - loss: 0.1686 - accuracy: 0.9363 - val_loss: 0.7719 - val_accuracy: 0.7567 - 2s/epoch - 656us/sample\n",
      "Epoch 17/50\n",
      "2700/2700 - 2s - loss: 0.1936 - accuracy: 0.9230 - val_loss: 0.6003 - val_accuracy: 0.7567 - 2s/epoch - 636us/sample\n",
      "Epoch 18/50\n",
      "2700/2700 - 2s - loss: 0.1533 - accuracy: 0.9400 - val_loss: 0.6088 - val_accuracy: 0.7800 - 2s/epoch - 861us/sample\n",
      "Epoch 19/50\n",
      "2700/2700 - 2s - loss: 0.1374 - accuracy: 0.9426 - val_loss: 0.7028 - val_accuracy: 0.7333 - 2s/epoch - 699us/sample\n",
      "Epoch 20/50\n",
      "2700/2700 - 2s - loss: 0.1382 - accuracy: 0.9452 - val_loss: 0.7069 - val_accuracy: 0.7733 - 2s/epoch - 629us/sample\n",
      "Epoch 21/50\n",
      "2700/2700 - 1s - loss: 0.1185 - accuracy: 0.9578 - val_loss: 0.6600 - val_accuracy: 0.7833 - 1s/epoch - 530us/sample\n",
      "Epoch 22/50\n",
      "2700/2700 - 2s - loss: 0.1196 - accuracy: 0.9541 - val_loss: 0.7512 - val_accuracy: 0.7633 - 2s/epoch - 815us/sample\n",
      "Epoch 23/50\n",
      "2700/2700 - 2s - loss: 0.1059 - accuracy: 0.9611 - val_loss: 0.8063 - val_accuracy: 0.7167 - 2s/epoch - 657us/sample\n",
      "Epoch 24/50\n",
      "2700/2700 - 2s - loss: 0.1111 - accuracy: 0.9574 - val_loss: 0.6976 - val_accuracy: 0.7533 - 2s/epoch - 673us/sample\n",
      "Epoch 25/50\n",
      "2700/2700 - 2s - loss: 0.0868 - accuracy: 0.9674 - val_loss: 0.7036 - val_accuracy: 0.7600 - 2s/epoch - 607us/sample\n",
      "Epoch 26/50\n",
      "2700/2700 - 2s - loss: 0.1106 - accuracy: 0.9596 - val_loss: 0.7020 - val_accuracy: 0.7867 - 2s/epoch - 602us/sample\n",
      "Epoch 27/50\n",
      "2700/2700 - 2s - loss: 0.0912 - accuracy: 0.9652 - val_loss: 0.8708 - val_accuracy: 0.7733 - 2s/epoch - 661us/sample\n",
      "Epoch 28/50\n",
      "2700/2700 - 2s - loss: 0.0846 - accuracy: 0.9737 - val_loss: 0.9135 - val_accuracy: 0.7700 - 2s/epoch - 694us/sample\n",
      "Epoch 29/50\n",
      "2700/2700 - 2s - loss: 0.0913 - accuracy: 0.9659 - val_loss: 0.7628 - val_accuracy: 0.7733 - 2s/epoch - 716us/sample\n",
      "Epoch 30/50\n",
      "2700/2700 - 2s - loss: 0.0986 - accuracy: 0.9604 - val_loss: 0.7624 - val_accuracy: 0.7667 - 2s/epoch - 564us/sample\n",
      "Epoch 31/50\n",
      "2700/2700 - 2s - loss: 0.0855 - accuracy: 0.9644 - val_loss: 0.8008 - val_accuracy: 0.7667 - 2s/epoch - 742us/sample\n",
      "Epoch 32/50\n",
      "2700/2700 - 2s - loss: 0.0706 - accuracy: 0.9737 - val_loss: 0.8580 - val_accuracy: 0.7467 - 2s/epoch - 598us/sample\n",
      "Epoch 33/50\n",
      "2700/2700 - 2s - loss: 0.0810 - accuracy: 0.9681 - val_loss: 0.8564 - val_accuracy: 0.7500 - 2s/epoch - 735us/sample\n",
      "Epoch 34/50\n",
      "2700/2700 - 2s - loss: 0.0873 - accuracy: 0.9670 - val_loss: 0.7955 - val_accuracy: 0.7500 - 2s/epoch - 606us/sample\n",
      "Epoch 35/50\n",
      "2700/2700 - 2s - loss: 0.1067 - accuracy: 0.9570 - val_loss: 0.8766 - val_accuracy: 0.7500 - 2s/epoch - 614us/sample\n",
      "Epoch 36/50\n",
      "2700/2700 - 2s - loss: 0.0636 - accuracy: 0.9781 - val_loss: 1.0476 - val_accuracy: 0.7600 - 2s/epoch - 599us/sample\n",
      "Epoch 37/50\n",
      "2700/2700 - 2s - loss: 0.0727 - accuracy: 0.9737 - val_loss: 1.0594 - val_accuracy: 0.7400 - 2s/epoch - 677us/sample\n",
      "Epoch 38/50\n",
      "2700/2700 - 2s - loss: 0.0758 - accuracy: 0.9704 - val_loss: 0.8759 - val_accuracy: 0.7500 - 2s/epoch - 754us/sample\n",
      "Epoch 39/50\n",
      "2700/2700 - 2s - loss: 0.0984 - accuracy: 0.9648 - val_loss: 0.9407 - val_accuracy: 0.7267 - 2s/epoch - 630us/sample\n",
      "Epoch 40/50\n",
      "2700/2700 - 2s - loss: 0.0572 - accuracy: 0.9800 - val_loss: 1.0146 - val_accuracy: 0.7333 - 2s/epoch - 619us/sample\n",
      "Epoch 41/50\n",
      "2700/2700 - 2s - loss: 0.0840 - accuracy: 0.9659 - val_loss: 0.8708 - val_accuracy: 0.7733 - 2s/epoch - 665us/sample\n",
      "Epoch 42/50\n",
      "2700/2700 - 2s - loss: 0.0595 - accuracy: 0.9756 - val_loss: 0.9177 - val_accuracy: 0.7533 - 2s/epoch - 765us/sample\n",
      "Epoch 43/50\n",
      "2700/2700 - 2s - loss: 0.0698 - accuracy: 0.9752 - val_loss: 0.8917 - val_accuracy: 0.7533 - 2s/epoch - 640us/sample\n",
      "Epoch 44/50\n",
      "2700/2700 - 2s - loss: 0.0673 - accuracy: 0.9781 - val_loss: 0.9321 - val_accuracy: 0.7467 - 2s/epoch - 786us/sample\n",
      "Epoch 45/50\n",
      "2700/2700 - 2s - loss: 0.0663 - accuracy: 0.9785 - val_loss: 0.8051 - val_accuracy: 0.7267 - 2s/epoch - 708us/sample\n",
      "Epoch 46/50\n",
      "2700/2700 - 2s - loss: 0.0508 - accuracy: 0.9822 - val_loss: 0.9472 - val_accuracy: 0.7433 - 2s/epoch - 682us/sample\n",
      "Epoch 47/50\n",
      "2700/2700 - 2s - loss: 0.0476 - accuracy: 0.9826 - val_loss: 1.0844 - val_accuracy: 0.7367 - 2s/epoch - 677us/sample\n",
      "Epoch 48/50\n",
      "2700/2700 - 2s - loss: 0.0540 - accuracy: 0.9789 - val_loss: 1.0551 - val_accuracy: 0.7533 - 2s/epoch - 723us/sample\n",
      "Epoch 49/50\n",
      "2700/2700 - 2s - loss: 0.0512 - accuracy: 0.9804 - val_loss: 0.8514 - val_accuracy: 0.7467 - 2s/epoch - 678us/sample\n",
      "Epoch 50/50\n",
      "2700/2700 - 2s - loss: 0.0581 - accuracy: 0.9781 - val_loss: 0.9010 - val_accuracy: 0.7600 - 2s/epoch - 693us/sample\n"
     ]
    }
   ],
   "source": [
    "num_epochs = 50\n",
    "\n",
    "training_padded = np.array(training_sequences1)\n",
    "training_labels = np.array(training_labels)\n",
    "testing_padded = np.array(test_sequences1)\n",
    "testing_labels = np.array(test_labels)\n",
    "\n",
    "history = model.fit(training_padded, training_labels, epochs = num_epochs,\n",
    "                    validation_data = (testing_padded, testing_labels), verbose=2)\n"
   ]
  },
  {
   "cell_type": "markdown",
   "metadata": {},
   "source": [
    "### 5. Đánh giá và dự đoán mô hình\n",
    "Thử kiểm tra mô hình bằng một vài văn bản tin tức thông dụng xem nó đúng hay sai\n"
   ]
  },
  {
   "cell_type": "code",
   "execution_count": 18,
   "metadata": {},
   "outputs": [
    {
     "name": "stdout",
     "output_type": "stream",
     "text": [
      "This news is False\n"
     ]
    }
   ],
   "source": [
    "# Sample text to check if fake or not\n",
    "X = \"Duyen is president of America\"\n",
    "\n",
    "#detection\n",
    "sequences = tokenizer1.texts_to_sequences([X])[0]\n",
    "sequences = pad_sequences([sequences], maxlen = 54, padding = padding_type,\n",
    "                          truncating = trunc_type)\n",
    "if(model.predict(sequences, verbose=0)[0][0]>=0.5):\n",
    "    print(\"This news is True\")\n",
    "else:\n",
    "    print(\"This news is False\")"
   ]
  }
 ],
 "metadata": {
  "kernelspec": {
   "display_name": "base",
   "language": "python",
   "name": "python3"
  },
  "language_info": {
   "codemirror_mode": {
    "name": "ipython",
    "version": 3
   },
   "file_extension": ".py",
   "mimetype": "text/x-python",
   "name": "python",
   "nbconvert_exporter": "python",
   "pygments_lexer": "ipython3",
   "version": "3.11.7"
  }
 },
 "nbformat": 4,
 "nbformat_minor": 2
}
